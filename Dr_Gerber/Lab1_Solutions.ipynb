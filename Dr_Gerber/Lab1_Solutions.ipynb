{
 "cells": [
  {
   "cell_type": "markdown",
   "metadata": {},
   "source": [
    "# DS 3000 Lab 1\n",
    "#! snip: Lab1\n",
    "# $\\color{red}{\\text{SOLUTIONS}}$ \n",
    "#! snip-end\n",
    "\n",
    "Due: Tuesday May 14 in-class\n",
    "\n",
    "### Submission Instructions\n",
    "Submit this `ipynb` file to Gradescope (this can also be done via the assignment on Canvas).  To ensure that your submitted `ipynb` file represents your latest code, make sure to give a fresh `Kernel > Restart & Run All` just before uploading the `ipynb` file to gradescope.\n",
    "\n",
    "### Tips for success\n",
    "- Collaborate: bounce ideas off of each other, if you are having trouble you can ask your classmates or Dr. Gerber for help with specific issues, however...\n",
    "- Under no circumstances may one student view or share their ungraded homework or quiz with another student [(see also)](http://www.northeastern.edu/osccr/academic-integrity), i.e. you are welcome to **talk about** (*not* show each other your answers to) the problems."
   ]
  },
  {
   "cell_type": "code",
   "execution_count": 1,
   "metadata": {},
   "outputs": [
    {
     "name": "stdout",
     "output_type": "stream",
     "text": [
      "snip-copied: Lab1.ipynb\n"
     ]
    }
   ],
   "source": [
    "#! snip: Lab1\n",
    "\n",
    "!python3 -m snip_copy Lab1_Solutions.ipynb\n",
    "\n",
    "#! snip-end"
   ]
  },
  {
   "cell_type": "markdown",
   "metadata": {},
   "source": [
    "# Part 1 (40 points): Intro to Markdown\n",
    "\n",
    "Use the markdown language below to create your own brief wikipedia-esque description of a topic related to International Government and Politics. \n",
    "\n",
    "Your mini-wiki page must include:\n",
    "- three headers: a title, subtitle and subsubtitle (the #, ##, ### syntax)\n",
    "- an embedded image from a web address (use an [image hosting site](https://makeawebsitehub.com/free-photo-hosting/) if you'd like to upload your own)\n",
    "- a table of size at least 9 cells (i.e. 3 by 3, or 5 by 2)\n",
    "- a list\n",
    "- a link to another website\n",
    "\n",
    "To practice typing in math mode, also include a LaTeX formula describing how your final grade is going to be calculated based on the syllabus, something like:\n",
    "\n",
    "$$grade = weight_1*score_1 + weight_2*score_2$$\n",
    "\n",
    "Please be **brief** in your text.  Aim for roughly 3 sentences total of text."
   ]
  },
  {
   "cell_type": "markdown",
   "metadata": {},
   "source": [
    "#! snip: Lab1\n",
    "\n",
    "# Irish College Leuven\n",
    "\n",
    "This serves as a brief introduction to the our Dialogue Home: **Irish College Leuven**\n",
    "\n",
    "![icl](https://encrypted-tbn0.gstatic.com/images?q=tbn:ANd9GcQiIsD1YpHKFVC2Jd2WXFvbYodEBWPPWiHGe4nPdhnXhg&s)\n",
    "\n",
    "## About Irish College Leuven\n",
    "\n",
    "Leuven, a picturesque city nestled in the heart of Belgium, boasts a rich history dating back to its founding in the 9th century. This charming city, known for its cobblestone streets and medieval architecture, is renowned for its vibrant culture and academic excellence. At the heart of Leuven lies the esteemed Irish College, a historic institution that has played a pivotal role in the city's scholarly heritage. Founded in 1607, the Irish College Leuven is a refurbished 17th Century former Franciscan friary that has served as a center of education and Irish culture on the European continent for over four centuries. Today, it continues to uphold its legacy as a hub of intellectual and cultural exchange.\n",
    "\n",
    "### What to do in Leuven\n",
    "\n",
    "- Many art galleries, museums, and churches\n",
    "- Plenty of student centric activities thanks to colleges like KU Leuven\n",
    "- Only a short train ride from Brussels\n",
    "- May other things! Some specifics:\n",
    "\n",
    "| Activity                  | Type                |\n",
    "|---------------------------|---------------------|\n",
    "| Visit St. Peter's Church  | Cultural Activity   |\n",
    "| Stella Artois Brewery     | Food and Drink      |\n",
    "| Oude Markt                | Shopping            |\n",
    "| M Leuven                  | Cultural Activity   |\n",
    "| Park Abbey                | Sight Seeing        |\n",
    "\n",
    "If you are interested in learning more about Irish College Leuven, here is the [website](https://www.irishcollegeleuven.eu/)\n",
    "\n",
    "#! snip-end\n"
   ]
  },
  {
   "cell_type": "markdown",
   "metadata": {},
   "source": []
  },
  {
   "cell_type": "markdown",
   "metadata": {},
   "source": [
    "# Part 2: Numpy\n",
    "## Part 2.1: Creating Arrays (10 points)\n",
    "\n",
    "Create the following two arrays using the NumPy library and then print them out. Call the first array `array_a` and the second array `array_b` (make sure you keep the `import` statement below):\n",
    "\n",
    "$$\\mathbf{array_a} = \\begin{bmatrix}3 & 8 & -2 & 3\\\\\n",
    ".5 & -1 & 6 & 4\\\\\n",
    "-5 & 7 & -42 & 2\n",
    "\\end{bmatrix}$$\n",
    "\n",
    "$$\\mathbf{array_b} = \\begin{bmatrix}42 & 38 & 34\\\\\n",
    "30 & 26 & 22\\\\\n",
    "18 & 14 & 10\\\\\n",
    "6 & 2 & -2\\\\\n",
    "-6 & -10 & -14\n",
    "\\end{bmatrix}$$"
   ]
  },
  {
   "cell_type": "code",
   "execution_count": 2,
   "metadata": {},
   "outputs": [],
   "source": [
    "# make sure to import numpy library\n",
    "import numpy as np"
   ]
  },
  {
   "cell_type": "code",
   "execution_count": 3,
   "metadata": {},
   "outputs": [],
   "source": [
    "#! snip: Lab1\n",
    "\n",
    "\n",
    "# creating array_a manually with tuples\n",
    "array_a = np.array([[3, 8, -2, 3],\n",
    "              [.5, -1, 6, 4],\n",
    "              [-5, 7, -42, 2]])\n",
    "\n",
    "# creating array_b taking advantage of .linspace and .reshape\n",
    "array_b = np.linspace(42, -14, 15).reshape(5, 3)\n",
    "\n",
    "#! snip-end"
   ]
  },
  {
   "cell_type": "code",
   "execution_count": null,
   "metadata": {},
   "outputs": [],
   "source": []
  },
  {
   "cell_type": "code",
   "execution_count": 4,
   "metadata": {},
   "outputs": [],
   "source": [
    "# uncomment below to print array_a\n",
    "#array_a"
   ]
  },
  {
   "cell_type": "code",
   "execution_count": 5,
   "metadata": {},
   "outputs": [],
   "source": [
    "# uncomment below to print array_b\n",
    "#array_b"
   ]
  },
  {
   "cell_type": "markdown",
   "metadata": {},
   "source": [
    "## Part 2.2: Exploring Arrays (15 points)\n",
    "\n",
    "1. Give the shape, size, ndim, and nbytes for each of the two arrays.\n",
    "1. Take the transpose of both arrays. Call these `t_array_a` and `t_array_b`.\n",
    "1. Try to add `array_a` and `t_array_b` (show you did this with commented out code), then remove the last column of `t_array_b` and try to add them again. In a markdown cell, explain what happened."
   ]
  },
  {
   "cell_type": "code",
   "execution_count": 6,
   "metadata": {},
   "outputs": [
    {
     "name": "stdout",
     "output_type": "stream",
     "text": [
      "(3, 4)\n",
      "12\n",
      "2\n",
      "96\n"
     ]
    }
   ],
   "source": [
    "#! snip: Lab1\n",
    "\n",
    "# printing all array_a attributes\n",
    "print(array_a.shape)\n",
    "print(array_a.size)\n",
    "print(array_a.ndim)\n",
    "print(array_a.nbytes)\n",
    "\n",
    "#! snip-end"
   ]
  },
  {
   "cell_type": "code",
   "execution_count": 7,
   "metadata": {},
   "outputs": [
    {
     "name": "stdout",
     "output_type": "stream",
     "text": [
      "(5, 3)\n",
      "15\n",
      "2\n",
      "120\n"
     ]
    }
   ],
   "source": [
    "#! snip: Lab1\n",
    "\n",
    "# printing all array_b attributes\n",
    "print(array_b.shape)\n",
    "print(array_b.size)\n",
    "print(array_b.ndim)\n",
    "print(array_b.nbytes)\n",
    "\n",
    "#! snip-end"
   ]
  },
  {
   "cell_type": "code",
   "execution_count": 8,
   "metadata": {},
   "outputs": [],
   "source": [
    "#! snip: Lab1\n",
    "\n",
    "# transposing both\n",
    "t_array_a = array_a.T\n",
    "t_array_b = array_b.T\n",
    "\n",
    "#! snip-end"
   ]
  },
  {
   "cell_type": "code",
   "execution_count": 9,
   "metadata": {},
   "outputs": [],
   "source": [
    "#! snip: Lab1\n",
    "\n",
    "# trying to add array_a to t_array_b\n",
    "# array_a + t_array_b\n",
    "\n",
    "#! snip-end"
   ]
  },
  {
   "cell_type": "code",
   "execution_count": 10,
   "metadata": {},
   "outputs": [
    {
     "data": {
      "text/plain": [
       "array([[ 45. ,  38. ,  16. ,   9. ],\n",
       "       [ 38.5,  25. ,  20. ,   6. ],\n",
       "       [ 29. ,  29. , -32. ,   0. ]])"
      ]
     },
     "execution_count": 10,
     "metadata": {},
     "output_type": "execute_result"
    }
   ],
   "source": [
    "#! snip: Lab1\n",
    "\n",
    "# removing last column of t_array_b (multiple ways to do this)\n",
    "t_array_b = array_b.T[:,0:4]\n",
    "\n",
    "# adding again\n",
    "array_a + t_array_b\n",
    "\n",
    "#! snip-end"
   ]
  },
  {
   "cell_type": "markdown",
   "metadata": {},
   "source": [
    "#! snip: Lab1\n",
    "\n",
    "When we first tried to add them, we received an error that they could not be broadcast together because of their different dimensions. By removing the last column of `t_array_b`, we made sure they were the same dimension and could be added together.\n",
    "\n",
    "#! snip-end"
   ]
  },
  {
   "cell_type": "code",
   "execution_count": null,
   "metadata": {},
   "outputs": [],
   "source": []
  },
  {
   "cell_type": "markdown",
   "metadata": {},
   "source": []
  },
  {
   "cell_type": "markdown",
   "metadata": {},
   "source": [
    "# Part 3: Pandas\n",
    "## Part 3.1: Reading in Data (5 points)\n",
    "\n",
    "On Canvas is the `train_stations_europe.csv` file. It was adapted from [this Kaggle data set](https://www.kaggle.com/datasets/headsortails/train-stations-in-europe). Read this data set in, using the `id` as the index column, and print the first few rows of the data. Make sure you keep the `import` statement below!"
   ]
  },
  {
   "cell_type": "code",
   "execution_count": 11,
   "metadata": {},
   "outputs": [],
   "source": [
    "# make sure to import pandas library\n",
    "import pandas as pd"
   ]
  },
  {
   "cell_type": "code",
   "execution_count": 12,
   "metadata": {},
   "outputs": [
    {
     "data": {
      "text/html": [
       "<div>\n",
       "<style scoped>\n",
       "    .dataframe tbody tr th:only-of-type {\n",
       "        vertical-align: middle;\n",
       "    }\n",
       "\n",
       "    .dataframe tbody tr th {\n",
       "        vertical-align: top;\n",
       "    }\n",
       "\n",
       "    .dataframe thead th {\n",
       "        text-align: right;\n",
       "    }\n",
       "</style>\n",
       "<table border=\"1\" class=\"dataframe\">\n",
       "  <thead>\n",
       "    <tr style=\"text-align: right;\">\n",
       "      <th></th>\n",
       "      <th>name</th>\n",
       "      <th>latitude</th>\n",
       "      <th>longitude</th>\n",
       "      <th>parent_station_id</th>\n",
       "      <th>country</th>\n",
       "      <th>time_zone</th>\n",
       "      <th>is_city</th>\n",
       "      <th>is_main_station</th>\n",
       "      <th>is_airport</th>\n",
       "    </tr>\n",
       "    <tr>\n",
       "      <th>id</th>\n",
       "      <th></th>\n",
       "      <th></th>\n",
       "      <th></th>\n",
       "      <th></th>\n",
       "      <th></th>\n",
       "      <th></th>\n",
       "      <th></th>\n",
       "      <th></th>\n",
       "      <th></th>\n",
       "    </tr>\n",
       "  </thead>\n",
       "  <tbody>\n",
       "    <tr>\n",
       "      <th>1</th>\n",
       "      <td>Chateau-Arnoux-St-Auban</td>\n",
       "      <td>44.081790</td>\n",
       "      <td>6.001625</td>\n",
       "      <td>NaN</td>\n",
       "      <td>FR</td>\n",
       "      <td>Europe/Paris</td>\n",
       "      <td>True</td>\n",
       "      <td>False</td>\n",
       "      <td>False</td>\n",
       "    </tr>\n",
       "    <tr>\n",
       "      <th>2</th>\n",
       "      <td>Chateau-Arnoux-St-Auban</td>\n",
       "      <td>44.061565</td>\n",
       "      <td>5.997373</td>\n",
       "      <td>1.0</td>\n",
       "      <td>FR</td>\n",
       "      <td>Europe/Paris</td>\n",
       "      <td>False</td>\n",
       "      <td>True</td>\n",
       "      <td>False</td>\n",
       "    </tr>\n",
       "    <tr>\n",
       "      <th>3</th>\n",
       "      <td>Chateau-Arnoux Mairie</td>\n",
       "      <td>44.063863</td>\n",
       "      <td>6.011248</td>\n",
       "      <td>1.0</td>\n",
       "      <td>FR</td>\n",
       "      <td>Europe/Paris</td>\n",
       "      <td>False</td>\n",
       "      <td>False</td>\n",
       "      <td>False</td>\n",
       "    </tr>\n",
       "    <tr>\n",
       "      <th>4</th>\n",
       "      <td>Digne-les-Bains</td>\n",
       "      <td>44.350000</td>\n",
       "      <td>6.350000</td>\n",
       "      <td>NaN</td>\n",
       "      <td>FR</td>\n",
       "      <td>Europe/Paris</td>\n",
       "      <td>True</td>\n",
       "      <td>False</td>\n",
       "      <td>False</td>\n",
       "    </tr>\n",
       "    <tr>\n",
       "      <th>6</th>\n",
       "      <td>Digne-les-Bains</td>\n",
       "      <td>44.088710</td>\n",
       "      <td>6.222982</td>\n",
       "      <td>4.0</td>\n",
       "      <td>FR</td>\n",
       "      <td>Europe/Paris</td>\n",
       "      <td>False</td>\n",
       "      <td>True</td>\n",
       "      <td>False</td>\n",
       "    </tr>\n",
       "  </tbody>\n",
       "</table>\n",
       "</div>"
      ],
      "text/plain": [
       "                       name   latitude  longitude  parent_station_id country  \\\n",
       "id                                                                             \n",
       "1   Chateau-Arnoux-St-Auban  44.081790   6.001625                NaN      FR   \n",
       "2   Chateau-Arnoux-St-Auban  44.061565   5.997373                1.0      FR   \n",
       "3     Chateau-Arnoux Mairie  44.063863   6.011248                1.0      FR   \n",
       "4           Digne-les-Bains  44.350000   6.350000                NaN      FR   \n",
       "6           Digne-les-Bains  44.088710   6.222982                4.0      FR   \n",
       "\n",
       "       time_zone  is_city  is_main_station  is_airport  \n",
       "id                                                      \n",
       "1   Europe/Paris     True            False       False  \n",
       "2   Europe/Paris    False             True       False  \n",
       "3   Europe/Paris    False            False       False  \n",
       "4   Europe/Paris     True            False       False  \n",
       "6   Europe/Paris    False             True       False  "
      ]
     },
     "execution_count": 12,
     "metadata": {},
     "output_type": "execute_result"
    }
   ],
   "source": [
    "#! snip: Lab1\n",
    "\n",
    "# reading in the data, with appropriate index column, and printing the head\n",
    "df_EUtrain = pd.read_csv('train_stations_europe.csv', index_col='id')\n",
    "df_EUtrain.head()\n",
    "\n",
    "#! snip-end"
   ]
  },
  {
   "cell_type": "code",
   "execution_count": null,
   "metadata": {},
   "outputs": [],
   "source": []
  },
  {
   "cell_type": "markdown",
   "metadata": {},
   "source": [
    "## Part 3.2: Manipulating Data (20 points)\n",
    "\n",
    "1. Create a subset of the data set which (a) **includes** only train stations in Belgium and (b) **excludes** all train stations which are **not** in a city. Make sure to save this subset as a new data frame and print the first few rows of the data.\n",
    "1. Use the `.describe()` function to produce summary statistics for the subset from the previous part. Create a markdown cell and explain:\n",
    "    - What Series did the `.describe()` function run on? What Series did it not run on? What is the difference, and what does this mean the `.describe()` function is used for?"
   ]
  },
  {
   "cell_type": "code",
   "execution_count": 13,
   "metadata": {},
   "outputs": [
    {
     "data": {
      "text/html": [
       "<div>\n",
       "<style scoped>\n",
       "    .dataframe tbody tr th:only-of-type {\n",
       "        vertical-align: middle;\n",
       "    }\n",
       "\n",
       "    .dataframe tbody tr th {\n",
       "        vertical-align: top;\n",
       "    }\n",
       "\n",
       "    .dataframe thead th {\n",
       "        text-align: right;\n",
       "    }\n",
       "</style>\n",
       "<table border=\"1\" class=\"dataframe\">\n",
       "  <thead>\n",
       "    <tr style=\"text-align: right;\">\n",
       "      <th></th>\n",
       "      <th>name</th>\n",
       "      <th>latitude</th>\n",
       "      <th>longitude</th>\n",
       "      <th>parent_station_id</th>\n",
       "      <th>country</th>\n",
       "      <th>time_zone</th>\n",
       "      <th>is_city</th>\n",
       "      <th>is_main_station</th>\n",
       "      <th>is_airport</th>\n",
       "    </tr>\n",
       "    <tr>\n",
       "      <th>id</th>\n",
       "      <th></th>\n",
       "      <th></th>\n",
       "      <th></th>\n",
       "      <th></th>\n",
       "      <th></th>\n",
       "      <th></th>\n",
       "      <th></th>\n",
       "      <th></th>\n",
       "      <th></th>\n",
       "    </tr>\n",
       "  </thead>\n",
       "  <tbody>\n",
       "    <tr>\n",
       "      <th>5964</th>\n",
       "      <td>Antwerpen</td>\n",
       "      <td>51.221722</td>\n",
       "      <td>4.405860</td>\n",
       "      <td>NaN</td>\n",
       "      <td>BE</td>\n",
       "      <td>Europe/Brussels</td>\n",
       "      <td>True</td>\n",
       "      <td>False</td>\n",
       "      <td>False</td>\n",
       "    </tr>\n",
       "    <tr>\n",
       "      <th>5970</th>\n",
       "      <td>Blandain Ville</td>\n",
       "      <td>50.617431</td>\n",
       "      <td>3.263740</td>\n",
       "      <td>NaN</td>\n",
       "      <td>BE</td>\n",
       "      <td>Europe/Brussels</td>\n",
       "      <td>True</td>\n",
       "      <td>False</td>\n",
       "      <td>False</td>\n",
       "    </tr>\n",
       "    <tr>\n",
       "      <th>5974</th>\n",
       "      <td>Bruxelles</td>\n",
       "      <td>50.846520</td>\n",
       "      <td>4.351739</td>\n",
       "      <td>NaN</td>\n",
       "      <td>BE</td>\n",
       "      <td>Europe/Brussels</td>\n",
       "      <td>True</td>\n",
       "      <td>False</td>\n",
       "      <td>False</td>\n",
       "    </tr>\n",
       "    <tr>\n",
       "      <th>6003</th>\n",
       "      <td>Quevy Ville</td>\n",
       "      <td>NaN</td>\n",
       "      <td>NaN</td>\n",
       "      <td>NaN</td>\n",
       "      <td>BE</td>\n",
       "      <td>Europe/Brussels</td>\n",
       "      <td>True</td>\n",
       "      <td>False</td>\n",
       "      <td>False</td>\n",
       "    </tr>\n",
       "    <tr>\n",
       "      <th>6006</th>\n",
       "      <td>Sterpenich Ville</td>\n",
       "      <td>NaN</td>\n",
       "      <td>NaN</td>\n",
       "      <td>NaN</td>\n",
       "      <td>BE</td>\n",
       "      <td>Europe/Brussels</td>\n",
       "      <td>True</td>\n",
       "      <td>False</td>\n",
       "      <td>False</td>\n",
       "    </tr>\n",
       "  </tbody>\n",
       "</table>\n",
       "</div>"
      ],
      "text/plain": [
       "                  name   latitude  longitude  parent_station_id country  \\\n",
       "id                                                                        \n",
       "5964         Antwerpen  51.221722   4.405860                NaN      BE   \n",
       "5970    Blandain Ville  50.617431   3.263740                NaN      BE   \n",
       "5974         Bruxelles  50.846520   4.351739                NaN      BE   \n",
       "6003       Quevy Ville        NaN        NaN                NaN      BE   \n",
       "6006  Sterpenich Ville        NaN        NaN                NaN      BE   \n",
       "\n",
       "            time_zone  is_city  is_main_station  is_airport  \n",
       "id                                                           \n",
       "5964  Europe/Brussels     True            False       False  \n",
       "5970  Europe/Brussels     True            False       False  \n",
       "5974  Europe/Brussels     True            False       False  \n",
       "6003  Europe/Brussels     True            False       False  \n",
       "6006  Europe/Brussels     True            False       False  "
      ]
     },
     "execution_count": 13,
     "metadata": {},
     "output_type": "execute_result"
    }
   ],
   "source": [
    "#! snip: Lab1\n",
    "\n",
    "# creating a subset of Belgian city train stations\n",
    "train_bool = (df_EUtrain.loc[:, 'country'] == 'BE') & (df_EUtrain.loc[:, 'is_city']  != False)\n",
    "\n",
    "belgium_city = df_EUtrain.loc[train_bool, :]\n",
    "belgium_city.head()\n",
    "\n",
    "#! snip-end"
   ]
  },
  {
   "cell_type": "code",
   "execution_count": 14,
   "metadata": {},
   "outputs": [
    {
     "data": {
      "text/html": [
       "<div>\n",
       "<style scoped>\n",
       "    .dataframe tbody tr th:only-of-type {\n",
       "        vertical-align: middle;\n",
       "    }\n",
       "\n",
       "    .dataframe tbody tr th {\n",
       "        vertical-align: top;\n",
       "    }\n",
       "\n",
       "    .dataframe thead th {\n",
       "        text-align: right;\n",
       "    }\n",
       "</style>\n",
       "<table border=\"1\" class=\"dataframe\">\n",
       "  <thead>\n",
       "    <tr style=\"text-align: right;\">\n",
       "      <th></th>\n",
       "      <th>latitude</th>\n",
       "      <th>longitude</th>\n",
       "      <th>parent_station_id</th>\n",
       "    </tr>\n",
       "  </thead>\n",
       "  <tbody>\n",
       "    <tr>\n",
       "      <th>count</th>\n",
       "      <td>9.000000</td>\n",
       "      <td>9.000000</td>\n",
       "      <td>0.0</td>\n",
       "    </tr>\n",
       "    <tr>\n",
       "      <th>mean</th>\n",
       "      <td>50.719715</td>\n",
       "      <td>4.810847</td>\n",
       "      <td>NaN</td>\n",
       "    </tr>\n",
       "    <tr>\n",
       "      <th>std</th>\n",
       "      <td>0.366820</td>\n",
       "      <td>0.996916</td>\n",
       "      <td>NaN</td>\n",
       "    </tr>\n",
       "    <tr>\n",
       "      <th>min</th>\n",
       "      <td>49.999779</td>\n",
       "      <td>3.263740</td>\n",
       "      <td>NaN</td>\n",
       "    </tr>\n",
       "    <tr>\n",
       "      <th>25%</th>\n",
       "      <td>50.617431</td>\n",
       "      <td>4.351739</td>\n",
       "      <td>NaN</td>\n",
       "    </tr>\n",
       "    <tr>\n",
       "      <th>50%</th>\n",
       "      <td>50.718089</td>\n",
       "      <td>4.444643</td>\n",
       "      <td>NaN</td>\n",
       "    </tr>\n",
       "    <tr>\n",
       "      <th>75%</th>\n",
       "      <td>50.979756</td>\n",
       "      <td>5.701847</td>\n",
       "      <td>NaN</td>\n",
       "    </tr>\n",
       "    <tr>\n",
       "      <th>max</th>\n",
       "      <td>51.221722</td>\n",
       "      <td>6.120155</td>\n",
       "      <td>NaN</td>\n",
       "    </tr>\n",
       "  </tbody>\n",
       "</table>\n",
       "</div>"
      ],
      "text/plain": [
       "        latitude  longitude  parent_station_id\n",
       "count   9.000000   9.000000                0.0\n",
       "mean   50.719715   4.810847                NaN\n",
       "std     0.366820   0.996916                NaN\n",
       "min    49.999779   3.263740                NaN\n",
       "25%    50.617431   4.351739                NaN\n",
       "50%    50.718089   4.444643                NaN\n",
       "75%    50.979756   5.701847                NaN\n",
       "max    51.221722   6.120155                NaN"
      ]
     },
     "execution_count": 14,
     "metadata": {},
     "output_type": "execute_result"
    }
   ],
   "source": [
    "#! snip: Lab1\n",
    "\n",
    "# using the .describe()\n",
    "belgium_city.describe()\n",
    "\n",
    "#! snip-end"
   ]
  },
  {
   "cell_type": "markdown",
   "metadata": {},
   "source": [
    "#! snip: Lab1\n",
    "\n",
    "The `.describe()` function ran only on the numerical series in the data set; it did not run on the series that were categorical in nature. This means that the `.describe()` function is only used for numerical statistical summaries, and we would need to use something else for the categorical series.\n",
    "\n",
    "#! snip-end"
   ]
  },
  {
   "cell_type": "code",
   "execution_count": null,
   "metadata": {},
   "outputs": [],
   "source": []
  },
  {
   "cell_type": "markdown",
   "metadata": {},
   "source": [
    "# Part 4: (DS 3000 Students Only) GitHub (10 points)\n",
    "\n",
    "When you finish the first three parts, give one last restart and run all to this file. Then, go to the [DS 3000 GitHub](https://github.com/eaegerber/ds3000_summer25), and clone it to your local machine. Then:\n",
    "\n",
    "- In the cloned ds3000_summer25 repo, create a folder with your name (as Dr. Gerber has already done)\n",
    "- Navigate to that folder and place this jupyter notebook inside"
   ]
  },
  {
   "cell_type": "code",
   "execution_count": null,
   "metadata": {},
   "outputs": [],
   "source": [
    "#! snip: Lab1\n",
    "\n",
    "git clone https://github.com/eaegerber/ds3000_summer25.git\n",
    "\n",
    "#! snip-end"
   ]
  }
 ],
 "metadata": {
  "kernelspec": {
   "display_name": "Python 3 (ipykernel)",
   "language": "python",
   "name": "python3"
  },
  "language_info": {
   "codemirror_mode": {
    "name": "ipython",
    "version": 3
   },
   "file_extension": ".py",
   "mimetype": "text/x-python",
   "name": "python",
   "nbconvert_exporter": "python",
   "pygments_lexer": "ipython3",
   "version": "3.11.9"
  }
 },
 "nbformat": 4,
 "nbformat_minor": 4
}
